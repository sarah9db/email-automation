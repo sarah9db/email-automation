{
 "cells": [
  {
   "cell_type": "code",
   "execution_count": null,
   "metadata": {},
   "outputs": [],
   "source": [
    "import msal\n",
    "import requests\n",
    "\n",
    "# Define the necessary Azure AD and Microsoft Graph API details\n",
    "client_id = ''\n",
    "client_secret = ''\n",
    "tenant_id = ''\n",
    "authority = f\"https://login.microsoftonline.com/{tenant_id}\"\n",
    "scope = [\"https://graph.microsoft.com/.default\"]\n",
    "graph_endpoint = 'https://graph.microsoft.com/v1.0'\n",
    "\n",
    "# Function to get an access token\n",
    "def get_access_token():\n",
    "    app = msal.ConfidentialClientApplication(client_id, authority=authority, client_credential=client_secret)\n",
    "    result = app.acquire_token_for_client(scopes=scope)\n",
    "    if \"access_token\" in result:\n",
    "        return result['access_token']\n",
    "    else:\n",
    "        raise Exception(\"Could not obtain access token\")\n",
    "\n",
    "# Function to send an email\n",
    "def send_email(access_token, recipient, subject, body):\n",
    "    endpoint = f\"{graph_endpoint}/users/pbaf@iu.edu/sendMail\"\n",
    "    headers = {\n",
    "        'Authorization': f'Bearer {access_token}',\n",
    "        'Content-Type': 'application/json'\n",
    "    }\n",
    "    email_message = {\n",
    "        \"message\": {\n",
    "            \"subject\": subject,\n",
    "            \"body\": {\n",
    "                \"contentType\": \"HTML\",\n",
    "                \"content\": body\n",
    "            },\n",
    "            \"toRecipients\": [\n",
    "                {\n",
    "                    \"emailAddress\": {\n",
    "                        \"address\": recipient\n",
    "                    }\n",
    "                }\n",
    "            ]\n",
    "        }\n",
    "    }\n",
    "    response = requests.post(endpoint, headers=headers, json=email_message)\n",
    "    if response.status_code == 202:\n",
    "        print(\"Email sent successfully\")\n",
    "    else:\n",
    "        print(f\"Failed to send email: {response.status_code}\")\n",
    "        print(response.json())\n"
   ]
  },
  {
   "cell_type": "markdown",
   "metadata": {},
   "source": [
    "## Matched Articles "
   ]
  },
  {
   "cell_type": "code",
   "execution_count": 8,
   "metadata": {},
   "outputs": [
    {
     "name": "stdout",
     "output_type": "stream",
     "text": [
      "Email sent successfully\n",
      "Email sent successfully\n"
     ]
    }
   ],
   "source": [
    "import pandas as pd\n",
    "#replace test dataset with original dataset \n",
    "matches_df = pd.read_csv('C:/Users/sarah/Downloads/test.csv')\n",
    "\n",
    "def main():\n",
    "    try:\n",
    "        access_token = get_access_token()\n",
    "        for _, row in matches_df.iterrows():\n",
    "            first_name = row['Name'].split()[0]\n",
    "            email_subject = f\"New Research Match: {row['Article Title']}\"\n",
    "            email_body = f\"\"\"\n",
    "            <html>\n",
    "            <body>\n",
    "            <h2>Dear {first_name},</h2>\n",
    "            <p>We thought you might be interested in the following article from our journal:</p>\n",
    "            <p><strong>{row['Article Title']}</strong></p>\n",
    "            <p><strong>DOI:</strong>{row['Article DOI']}</p>\n",
    "            <p>{row['Article Abstract']}<p>\n",
    "            <!-- LinkedIn Follow Section -->\n",
    "            <hr> <!-- Horizontal line for separation -->\n",
    "            <h3>Stay Connected!</h3>\n",
    "            <p>Don't miss out on the latest updates and research insights. Follow our LinkedIn page for exclusive content, news, and opportunities to connect with fellow researchers:</p>\n",
    "            <p>\n",
    "            <a href=\"https://www.linkedin.com/company/public-budgeting-and-finance/posts/?feedView=all\" target=\"_blank\">Follow us on LinkedIn</a>\n",
    "            </p>\n",
    "    \n",
    "            <p>Best regards,<br>Public Budgeting and Finance</p>\n",
    "            </body>\n",
    "            </html>\n",
    "            \"\"\"\n",
    "            send_email(access_token, row['Contact'], email_subject, email_body)\n",
    "    except Exception as e:\n",
    "        print(f\"An error occurred: {e}\")\n",
    "\n",
    "if __name__ == \"__main__\":\n",
    "    main()"
   ]
  },
  {
   "cell_type": "code",
   "execution_count": 3,
   "metadata": {},
   "outputs": [],
   "source": [
    "import pandas as pd"
   ]
  },
  {
   "cell_type": "markdown",
   "metadata": {},
   "source": [
    "## Early View "
   ]
  },
  {
   "cell_type": "code",
   "execution_count": 4,
   "metadata": {},
   "outputs": [
    {
     "name": "stdout",
     "output_type": "stream",
     "text": [
      "Email sent successfully\n",
      "Email sent successfully\n",
      "Email sent successfully\n",
      "Email sent successfully\n",
      "Email sent successfully\n"
     ]
    }
   ],
   "source": [
    "early_view = pd.read_csv('C:/Users/sarah/Downloads/early_view.csv')\n",
    "#replace test dataset with original dataset \n",
    "researchers_df= pd.read_csv('C:/Users/sarah/Downloads/test.csv')\n",
    "first_early_view = early_view.iloc[0]\n",
    "first_early_view_title = first_early_view['Title']\n",
    "first_early_view_abstract = first_early_view['Abstract']\n",
    "first_early_view_link = first_early_view['Link']\n",
    "first_early_view_doi = first_early_view['DOI']\n",
    "first_early_view_authors = first_early_view['Authors']\n",
    "\n",
    "# Remove rows with missing fields\n",
    "researchers_df.dropna(subset=['Name', 'Contact'], inplace=True)\n",
    "\n",
    "def main():\n",
    "    try:\n",
    "        access_token = get_access_token()\n",
    "        for _, row in researchers_df.iterrows():\n",
    "            first_name = row['Name'].split()[0]\n",
    "            email_subject = f\"A peak into our latest publications: {first_early_view_title}\"\n",
    "            email_body = f\"\"\"\n",
    "            <html>\n",
    "            <body>\n",
    "            <h3>Dear {first_name},</h3>\n",
    "            <p>We thought you might be interested in the following article from <i>Public Budgeting and Finance</i>:</p>\n",
    "            <p><strong>{first_early_view_title}</strong></p>\n",
    "            <p><strong>Authors: </strong>{first_early_view_authors}</p>\n",
    "            <p><strong>DOI:</strong>{first_early_view_doi}</p>\n",
    "            <p>{first_early_view_abstract}<p>\n",
    "            <a href={first_early_view_link}>Check out the full research paper here.</a>\n",
    "            <p>Best regards,<br>Public Budgeting and Finance</p>\n",
    "            \n",
    "            <!-- Manuscript Submission Section -->\n",
    "            <hr>\n",
    "            <h3>Submit Your Manuscript</h3>\n",
    "            <p>We welcome submissions of articles for consideration in <i>Public Budgeting and Finance</i>. If you have research or insights to share with our readership, please submit your manuscript via our online submission system:</p>\n",
    "            <p><a href=\"https://wiley.atyponrex.com/journal/PBAF\" target=\"_blank\">Submit an article here</a></p>\n",
    "            <!-- LinkedIn Follow Section -->\n",
    "            <hr> <!-- Horizontal line for separation -->\n",
    "            <h3>Stay Connected!</h3>\n",
    "            <p>Don't miss out on the latest updates and research insights. Follow us on our social media platforms for exclusive content, news, and opportunities to connect with fellow researchers:</p>\n",
    "            <p>\n",
    "            <a href=\"https://www.linkedin.com/company/public-budgeting-and-finance/posts/?feedView=all\" target=\"_blank\">Follow us on LinkedIn</a></p>\n",
    "            <p><a href=\"https://twitter.com/pbaf_journal?ref_src=twsrc%5Etfw%7Ctwcamp%5Eembeddedtimeline%7Ctwterm%5Escreen-name%3Apbaf_journal%7Ctwcon%5Es2\" target=\"_blank\">Follow us on Twitter</a>\n",
    "            </p>\n",
    "    \n",
    "            <hr>\n",
    "            <h3>About the Journal</h3>\n",
    "            <p><i>Public Budgeting & Finance</i> is a scholarly forum for the communication of research and experiences on all facets of government finance. The journal provides understandable, reliable, and thoughtful analysis of prominent issues to researchers, practitioners, and teachers of applied government finance. Crossing disciplines and approaches, the journal spans the spectrum of budget process, policy, and financial management across governments and countries.</p>\n",
    "            <p>Since 1981, the journal has served as the flagship journal of the Association for Budgeting and Financial Management (ABFM), American Society for Public Administration (ASPA), and the American Association for Budget and Program Analysis (AABPA) and is published by Wiley Periodicals LLC.</p>\n",
    "            <p><strong>2023 Journal Citation Indicator (Clarivate Analytics): 0.28</strong></p>\n",
    "            <p><strong>Public Budgeting & Finance Editorial Board (2023-2026)</strong></p>\n",
    "            <ul>\n",
    "                <li>Craig Johnson, Co-Editor-in-Chief</li>\n",
    "                <li>Justin Ross, Co-Editor-in-Chief</li>\n",
    "                <li>Whitney Afonso, University of North Carolina</li>\n",
    "                <li>Eric Brunner, University of Connecticut</li>\n",
    "                <li>Thad Calabrese, New York University</li>\n",
    "                <li>Philipp Dorrenberg, University of Mannheim</li>\n",
    "                <li>Denvil Duncan, Indiana University</li>\n",
    "                <li>Yilin Hou, Syracuse University</li>\n",
    "                <li>Philip Joyce, University of Maryland</li>\n",
    "                <li>Martin Luby, University of Texas-Austin</li>\n",
    "                <li>Christine Martell, University of Colorado-Denver</li>\n",
    "                <li>David Matkin, Brigham Young University</li>\n",
    "                <li>Temirlan T. Moldogaziev, Indiana University</li>\n",
    "                <li>Victoria Perez, Yale University</li>\n",
    "                <li>Shanthi Ramnath, Federal Reserve Bank of Chicago</li>\n",
    "                <li>Ringa Raudla, Tallinn University of Technology</li>\n",
    "                <li>Iris Saliterer, University of Freiburg</li>\n",
    "                <li>Joel Slemrod, University of Michigan</li>\n",
    "                <li>Luke Spreen, University of Maryland</li>\n",
    "                <li>Ileana Steccolini, University of Essex</li>\n",
    "            </ul>\n",
    "\n",
    "            </body>\n",
    "            </html>\n",
    "            \"\"\"\n",
    "            send_email(access_token, row['Contact'], email_subject, email_body)\n",
    "    except Exception as e:\n",
    "        print(f\"An error occurred: {e}\")\n",
    "\n",
    "if __name__ == \"__main__\":\n",
    "    main()"
   ]
  },
  {
   "cell_type": "markdown",
   "metadata": {},
   "source": [
    "## Journalistic Articles "
   ]
  },
  {
   "cell_type": "code",
   "execution_count": 4,
   "metadata": {},
   "outputs": [
    {
     "name": "stdout",
     "output_type": "stream",
     "text": [
      "Columns in articles_df: Index(['title ', 'content', 'link'], dtype='object')\n"
     ]
    }
   ],
   "source": [
    "# Load the DataFrame from the researchers CSV file\n",
    "#researchers_df = pd.read_excel(\"C:/Users/sarah/Downloads/researchers.xlsx\")\n",
    "#replace test dataset with original dataset \n",
    "researchers_df= pd.read_csv('C:/Users/sarah/Downloads/test.csv')\n",
    "\n",
    "# Remove rows with missing fields\n",
    "researchers_df.dropna(subset=['Name', 'Contact'], inplace=True)\n",
    "\n",
    "# Load the DataFrame from the articles CSV file\n",
    "articles_df = pd.read_csv('C:/Users/sarah/Downloads/articles.csv')  \n",
    "\n",
    "print(\"Columns in articles_df:\", articles_df.columns)\n",
    "# Get the first article's details\n",
    "first_article = articles_df.iloc[0]"
   ]
  },
  {
   "cell_type": "code",
   "execution_count": 5,
   "metadata": {},
   "outputs": [
    {
     "name": "stdout",
     "output_type": "stream",
     "text": [
      "title      Transparency Triumph: How Revealing School Per...\n",
      "content    A recent study unveiled how transparency about...\n",
      "link                      https://doi.org/10.1111/pbaf.12362\n",
      "Name: 0, dtype: object\n"
     ]
    }
   ],
   "source": [
    "print(first_article)"
   ]
  },
  {
   "cell_type": "code",
   "execution_count": 6,
   "metadata": {},
   "outputs": [],
   "source": [
    "first_article_title = first_article['title ']\n",
    "first_article_content = first_article['content']\n",
    "first_article_link = first_article['link']"
   ]
  },
  {
   "cell_type": "code",
   "execution_count": 7,
   "metadata": {},
   "outputs": [],
   "source": [
    "import re\n",
    "paragraphs = re.split(r'\\n\\s*\\n', first_article_content.strip())\n",
    "formatted_content = ''.join(f\"<p>{para}</p>\" for para in paragraphs)"
   ]
  },
  {
   "cell_type": "code",
   "execution_count": 8,
   "metadata": {},
   "outputs": [
    {
     "name": "stdout",
     "output_type": "stream",
     "text": [
      "Email sent successfully\n",
      "Email sent successfully\n"
     ]
    }
   ],
   "source": [
    "def main():\n",
    "    try:\n",
    "        access_token = get_access_token()\n",
    "        for _, row in researchers_df.iterrows():\n",
    "            first_name = row['Name'].split()[0]  # Extract first name\n",
    "            email_subject = first_article_title\n",
    "            email_body = f\"\"\"\n",
    "            <html>\n",
    "            <body>\n",
    "            <p>Dear {first_name},</p>\n",
    "            <p>Here's an article that might interest you:</p>\n",
    "            <p><strong> {first_article_title} </strong></p>\n",
    "            {formatted_content}\n",
    "            <a href={first_article_link}>Check out the full research paper here.</a>\n",
    "            <p>Best regards,</p>\n",
    "            <p><strong>Public Budgeting and Finance</strong></p>\n",
    "            <hr> <!-- Horizontal line for separation -->\n",
    "            <h3>Stay Connected!</h3>\n",
    "            <p>Don't miss out on the latest updates and research insights. Follow our LinkedIn page for exclusive content, news, and opportunities to connect with fellow researchers:</p>\n",
    "            <p>\n",
    "            <a href=\"https://www.linkedin.com/company/public-budgeting-and-finance/posts/?feedView=all\" target=\"_blank\">Follow us on LinkedIn</a>\n",
    "            </p>\n",
    "            </body>\n",
    "            </html>\n",
    "            \"\"\"\n",
    "            send_email(access_token, row['Contact'], email_subject, email_body)\n",
    "    except Exception as e:\n",
    "        print(f\"An error occurred: {e}\")\n",
    "\n",
    "if __name__ == \"__main__\":\n",
    "    main()"
   ]
  }
 ],
 "metadata": {
  "kernelspec": {
   "display_name": "Python 3",
   "language": "python",
   "name": "python3"
  },
  "language_info": {
   "codemirror_mode": {
    "name": "ipython",
    "version": 3
   },
   "file_extension": ".py",
   "mimetype": "text/x-python",
   "name": "python",
   "nbconvert_exporter": "python",
   "pygments_lexer": "ipython3",
   "version": "3.12.3"
  }
 },
 "nbformat": 4,
 "nbformat_minor": 2
}
